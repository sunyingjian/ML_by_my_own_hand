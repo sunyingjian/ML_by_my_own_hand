{
 "cells": [
  {
   "cell_type": "code",
   "execution_count": 1,
   "metadata": {},
   "outputs": [],
   "source": [
    "import numpy as np"
   ]
  },
  {
   "cell_type": "code",
   "execution_count": 2,
   "metadata": {},
   "outputs": [],
   "source": [
    "class KNN():\n",
    "    def __init_(self,k=5):\n",
    "        self.k=k\n",
    "    \n",
    "    def predict(self,X_test,X_train,y_train):\n",
    "        y_predict = np.zeros(X_test.shape[0])\n",
    "        for i in range(X_test.shape[0]):\n",
    "            distances = np.zeros((X_train.shape[0],2))\n",
    "            for j in range(X_train.shape[0]):\n",
    "                dis= np.linalg.norm(X_test[i]-X_train[j])\n",
    "                label=y_train[j]\n",
    "                distances[j]=[dis,label]\n",
    "                \n",
    "                k_nearest_neighbos = distances[distance[:,0].argsort()][:self.k]\n",
    "                counts = np.bincount(k_nearest_neighbos[:,1].astype('int'))\n",
    "                \n",
    "                testlabel = counts.argmax()\n",
    "                \n",
    "                y_predict[i] = testlabel\n",
    "        return y_predict"
   ]
  },
  {
   "cell_type": "code",
   "execution_count": null,
   "metadata": {},
   "outputs": [],
   "source": []
  }
 ],
 "metadata": {
  "kernelspec": {
   "display_name": "Python 3",
   "language": "python",
   "name": "python3"
  },
  "language_info": {
   "codemirror_mode": {
    "name": "ipython",
    "version": 3
   },
   "file_extension": ".py",
   "mimetype": "text/x-python",
   "name": "python",
   "nbconvert_exporter": "python",
   "pygments_lexer": "ipython3",
   "version": "3.8.5"
  }
 },
 "nbformat": 4,
 "nbformat_minor": 4
}
